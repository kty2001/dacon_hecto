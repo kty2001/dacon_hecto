{
 "cells": [
  {
   "cell_type": "code",
   "execution_count": null,
   "id": "abe1649e",
   "metadata": {},
   "outputs": [
    {
     "name": "stdout",
     "output_type": "stream",
     "text": [
      "396\n",
      "data\\train\\1시리즈_F20_2013_2015\n"
     ]
    }
   ],
   "source": [
    "import os\n",
    "import glob\n",
    "import shutil\n",
    "\n",
    "class_list = glob.glob(os.path.join('data', 'train', '*'))\n",
    "print(len(class_list))\n",
    "print(class_list[0])"
   ]
  },
  {
   "cell_type": "code",
   "execution_count": null,
   "id": "a7ca4c42",
   "metadata": {},
   "outputs": [],
   "source": [
    "class_dict = {}\n",
    "for idx, class_file in enumerate(class_list):\n",
    "    class_name = os.path.basename(class_file)\n",
    "    class_dict[class_name] = idx\n",
    "\n",
    "    class_imgs = glob.glob(os.path.join(class_file, '*.jpg'))\n",
    "    for index, img in enumerate(class_imgs):\n",
    "        new_name = os.path.join(class_file, f'{index}.jpg')\n",
    "        shutil.move(img, new_name)\n",
    "\n",
    "    shutil.move(class_file, os.path.join('data', 'train', str(idx)))\n",
    "\n",
    "with open('class_dict.txt', 'w') as f:\n",
    "    for class_name, idx in class_dict.items():\n",
    "        f.write(f'{class_name} {idx}\\n')\n",
    "    "
   ]
  },
  {
   "cell_type": "code",
   "execution_count": 10,
   "id": "3d3f8390",
   "metadata": {},
   "outputs": [
    {
     "name": "stdout",
     "output_type": "stream",
     "text": [
      "33137\n",
      "data/train\\0\\0.jpg\n"
     ]
    }
   ],
   "source": [
    "data_list = glob.glob(os.path.join('data/train', '*', '*.jpg'))\n",
    "print(len(data_list))\n",
    "print(data_list[0])"
   ]
  },
  {
   "cell_type": "code",
   "execution_count": 18,
   "id": "e620bb07",
   "metadata": {},
   "outputs": [
    {
     "name": "stdout",
     "output_type": "stream",
     "text": [
      "33137\n",
      "396\n",
      "<class 'list'>\n"
     ]
    }
   ],
   "source": [
    "import numpy as np\n",
    "labels = [os.path.basename(os.path.dirname(p)) for p in data_list]\n",
    "print(len(labels))\n",
    "labels = np.unique(labels).tolist()\n",
    "print(len(labels))\n",
    "print(type(labels))"
   ]
  },
  {
   "cell_type": "code",
   "execution_count": null,
   "id": "c71afe44",
   "metadata": {},
   "outputs": [],
   "source": []
  }
 ],
 "metadata": {
  "kernelspec": {
   "display_name": "hecto",
   "language": "python",
   "name": "python3"
  },
  "language_info": {
   "codemirror_mode": {
    "name": "ipython",
    "version": 3
   },
   "file_extension": ".py",
   "mimetype": "text/x-python",
   "name": "python",
   "nbconvert_exporter": "python",
   "pygments_lexer": "ipython3",
   "version": "3.12.9"
  }
 },
 "nbformat": 4,
 "nbformat_minor": 5
}
